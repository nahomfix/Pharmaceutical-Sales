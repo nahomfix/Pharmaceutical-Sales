{
 "cells": [
  {
   "cell_type": "code",
   "execution_count": 6,
   "metadata": {},
   "outputs": [
    {
     "name": "stdout",
     "output_type": "stream",
     "text": [
      "The autoreload extension is already loaded. To reload it, use:\n",
      "  %reload_ext autoreload\n"
     ]
    }
   ],
   "source": [
    "%load_ext autoreload\n",
    "%autoreload 2"
   ]
  },
  {
   "cell_type": "code",
   "execution_count": 7,
   "metadata": {},
   "outputs": [],
   "source": [
    "import sys\n",
    "sys.path.insert(0, '../scripts/')"
   ]
  },
  {
   "cell_type": "code",
   "execution_count": 8,
   "metadata": {},
   "outputs": [],
   "source": [
    "import pandas as pd\n",
    "import numpy as np\n",
    "import matplotlib.pyplot as plt\n",
    "import seaborn as sns\n",
    "import os\n",
    "from scipy import stats\n",
    "from datetime import datetime, timedelta\n",
    "from plots import Plots\n",
    "from data_cleaning import DataCleaner\n",
    "%matplotlib inline"
   ]
  },
  {
   "cell_type": "code",
   "execution_count": 9,
   "metadata": {},
   "outputs": [],
   "source": [
    "pwd = os.getcwd()\n",
    "\n",
    "train_file_path = os.path.join(pwd, os.pardir, \"data/train.csv\")\n",
    "test_file_path = os.path.join(pwd, os.pardir, \"data/test.csv\")\n",
    "store_file_path = os.path.join(pwd, os.pardir, \"data/store.csv\")"
   ]
  },
  {
   "cell_type": "code",
   "execution_count": 10,
   "metadata": {},
   "outputs": [],
   "source": [
    "df_train = pd.read_csv(train_file_path, dtype={'StateHoliday': object}, parse_dates=[\"Date\"])\n",
    "df_test = pd.read_csv(test_file_path, dtype={'StateHoliday': object}, parse_dates=[\"Date\"])\n",
    "df_store = pd.read_csv(store_file_path)"
   ]
  },
  {
   "cell_type": "code",
   "execution_count": 11,
   "metadata": {},
   "outputs": [],
   "source": [
    "data_cleaner_train = DataCleaner(df_train)"
   ]
  },
  {
   "cell_type": "code",
   "execution_count": 12,
   "metadata": {},
   "outputs": [
    {
     "data": {
      "text/plain": [
       "Store            100.0\n",
       "DayOfWeek        100.0\n",
       "Date             100.0\n",
       "Sales            100.0\n",
       "Customers        100.0\n",
       "Open             100.0\n",
       "Promo            100.0\n",
       "StateHoliday     100.0\n",
       "SchoolHoliday    100.0\n",
       "dtype: float64"
      ]
     },
     "execution_count": 12,
     "metadata": {},
     "output_type": "execute_result"
    }
   ],
   "source": [
    "data_cleaner_train.show_missing_percentages()"
   ]
  },
  {
   "cell_type": "code",
   "execution_count": 13,
   "metadata": {},
   "outputs": [],
   "source": [
    "data_cleaner_test = DataCleaner(df_test)"
   ]
  },
  {
   "cell_type": "code",
   "execution_count": 14,
   "metadata": {},
   "outputs": [
    {
     "data": {
      "text/plain": [
       "Id               100.000000\n",
       "Store            100.000000\n",
       "DayOfWeek        100.000000\n",
       "Date             100.000000\n",
       "Open              99.973228\n",
       "Promo            100.000000\n",
       "StateHoliday     100.000000\n",
       "SchoolHoliday    100.000000\n",
       "dtype: float64"
      ]
     },
     "execution_count": 14,
     "metadata": {},
     "output_type": "execute_result"
    }
   ],
   "source": [
    "data_cleaner_test.show_missing_percentages()"
   ]
  },
  {
   "cell_type": "code",
   "execution_count": 15,
   "metadata": {},
   "outputs": [],
   "source": [
    "data_cleaner_test.fill_missing_column_zero(\"Open\")"
   ]
  },
  {
   "cell_type": "code",
   "execution_count": 16,
   "metadata": {},
   "outputs": [],
   "source": [
    "data_cleaner_store = DataCleaner(df_store)"
   ]
  },
  {
   "cell_type": "code",
   "execution_count": 17,
   "metadata": {},
   "outputs": [
    {
     "data": {
      "text/plain": [
       "Store                        100.000000\n",
       "StoreType                    100.000000\n",
       "Assortment                   100.000000\n",
       "CompetitionDistance           99.730942\n",
       "CompetitionOpenSinceMonth     68.251121\n",
       "CompetitionOpenSinceYear      68.251121\n",
       "Promo2                       100.000000\n",
       "Promo2SinceWeek               51.210762\n",
       "Promo2SinceYear               51.210762\n",
       "PromoInterval                 51.210762\n",
       "dtype: float64"
      ]
     },
     "execution_count": 17,
     "metadata": {},
     "output_type": "execute_result"
    }
   ],
   "source": [
    "data_cleaner_store.show_missing_percentages()"
   ]
  },
  {
   "cell_type": "code",
   "execution_count": 18,
   "metadata": {},
   "outputs": [],
   "source": [
    "data_cleaner_store.fill_missing_column_zero(\"CompetitionDistance\")\n",
    "data_cleaner_store.fill_missing_column_zero(\"CompetitionOpenSinceMonth\")\n",
    "data_cleaner_store.fill_missing_column_zero(\"CompetitionOpenSinceYear\")\n",
    "data_cleaner_store.fill_missing_column_zero(\"Promo2SinceWeek\")\n",
    "data_cleaner_store.fill_missing_column_zero(\"Promo2SinceYear\")"
   ]
  },
  {
   "cell_type": "code",
   "execution_count": 19,
   "metadata": {},
   "outputs": [],
   "source": [
    "data_cleaner_store.fill_missing_empty_string(\"PromoInterval\")"
   ]
  },
  {
   "cell_type": "code",
   "execution_count": 20,
   "metadata": {},
   "outputs": [],
   "source": [
    "df_train_clean = data_cleaner_train.dataframe\n",
    "df_test_clean = data_cleaner_test.dataframe\n",
    "df_store_clean = data_cleaner_store.dataframe"
   ]
  },
  {
   "cell_type": "code",
   "execution_count": 21,
   "metadata": {},
   "outputs": [],
   "source": [
    "df_train_clean.to_csv(os.path.join(pwd, os.pardir, \"data/train_clean.csv\"), index=False)\n",
    "df_test_clean.to_csv(os.path.join(pwd, os.pardir, \"data/test_clean.csv\"), index=False)\n",
    "df_store_clean.to_csv(os.path.join(pwd, os.pardir, \"data/store_clean.csv\"), index=False)"
   ]
  },
  {
   "cell_type": "code",
   "execution_count": 22,
   "metadata": {},
   "outputs": [],
   "source": [
    "df_train_store = pd.merge(df_train_clean, df_store_clean, how = 'left', on = 'Store')\n",
    "df_test_store = pd.merge(df_test_clean, df_store_clean, how = 'left', on = 'Store')"
   ]
  },
  {
   "cell_type": "code",
   "execution_count": 161,
   "metadata": {},
   "outputs": [],
   "source": [
    "# data_cleaner.fill_missing_median()"
   ]
  },
  {
   "cell_type": "code",
   "execution_count": 23,
   "metadata": {},
   "outputs": [],
   "source": [
    "data_cleaner = DataCleaner(df_train_store)"
   ]
  },
  {
   "cell_type": "code",
   "execution_count": 25,
   "metadata": {},
   "outputs": [],
   "source": [
    "data_cleaner.remove_closed_stores()"
   ]
  },
  {
   "cell_type": "code",
   "execution_count": 27,
   "metadata": {},
   "outputs": [
    {
     "data": {
      "text/plain": [
       "count    844338.000000\n",
       "mean       6955.959134\n",
       "std        3103.815515\n",
       "min          46.000000\n",
       "25%        4859.000000\n",
       "50%        6369.000000\n",
       "75%        8360.000000\n",
       "max       41551.000000\n",
       "Name: Sales, dtype: float64"
      ]
     },
     "execution_count": 27,
     "metadata": {},
     "output_type": "execute_result"
    }
   ],
   "source": [
    "data_cleaner.dataframe[\"Sales\"].describe()"
   ]
  },
  {
   "cell_type": "code",
   "execution_count": 28,
   "metadata": {},
   "outputs": [],
   "source": [
    "data_cleaner.remove_outliers(\"Sales\")"
   ]
  },
  {
   "cell_type": "code",
   "execution_count": 29,
   "metadata": {},
   "outputs": [
    {
     "data": {
      "text/plain": [
       "<AxesSubplot:>"
      ]
     },
     "execution_count": 29,
     "metadata": {},
     "output_type": "execute_result"
    },
    {
     "data": {
      "image/png": "[encoded data removed]",
      "text/plain": [
       "<Figure size 432x288 with 1 Axes>"
      ]
     },
     "metadata": {
      "needs_background": "light"
     },
     "output_type": "display_data"
    }
   ],
   "source": [
    "df_train_store[\"Sales\"].plot(kind=\"box\")"
   ]
  },
  {
   "cell_type": "code",
   "execution_count": 30,
   "metadata": {},
   "outputs": [
    {
     "data": {
      "text/plain": [
       "<AxesSubplot:ylabel='Frequency'>"
      ]
     },
     "execution_count": 30,
     "metadata": {},
     "output_type": "execute_result"
    },
    {
     "data": {
      "image/png": "[encoded data removed]",
      "text/plain": [
       "<Figure size 432x288 with 1 Axes>"
      ]
     },
     "metadata": {
      "needs_background": "light"
     },
     "output_type": "display_data"
    }
   ],
   "source": [
    "data_cleaner.dataframe[\"Sales\"].plot(kind=\"hist\")"
   ]
  },
  {
   "cell_type": "code",
   "execution_count": 31,
   "metadata": {},
   "outputs": [],
   "source": [
    "data_cleaner.scale_dataframe()"
   ]
  },
  {
   "cell_type": "code",
   "execution_count": 32,
   "metadata": {},
   "outputs": [
    {
     "data": {
      "text/html": [
       "<div>\n",
       "<style scoped>\n",
       "    .dataframe tbody tr th:only-of-type {\n",
       "        vertical-align: middle;\n",
       "    }\n",
       "\n",
       "    .dataframe tbody tr th {\n",
       "        vertical-align: top;\n",
       "    }\n",
       "\n",
       "    .dataframe thead th {\n",
       "        text-align: right;\n",
       "    }\n",
       "</style>\n",
       "<table border=\"1\" class=\"dataframe\">\n",
       "  <thead>\n",
       "    <tr style=\"text-align: right;\">\n",
       "      <th></th>\n",
       "      <th>Store</th>\n",
       "      <th>DayOfWeek</th>\n",
       "      <th>Sales</th>\n",
       "      <th>Customers</th>\n",
       "      <th>Open</th>\n",
       "      <th>Promo</th>\n",
       "      <th>SchoolHoliday</th>\n",
       "      <th>CompetitionDistance</th>\n",
       "      <th>CompetitionOpenSinceMonth</th>\n",
       "      <th>CompetitionOpenSinceYear</th>\n",
       "      <th>Promo2</th>\n",
       "      <th>Promo2SinceWeek</th>\n",
       "      <th>Promo2SinceYear</th>\n",
       "    </tr>\n",
       "  </thead>\n",
       "  <tbody>\n",
       "    <tr>\n",
       "      <th>0</th>\n",
       "      <td>-1.723137</td>\n",
       "      <td>0.848235</td>\n",
       "      <td>-0.546063</td>\n",
       "      <td>-0.535808</td>\n",
       "      <td>0.0</td>\n",
       "      <td>1.137629</td>\n",
       "      <td>2.049443</td>\n",
       "      <td>-0.541901</td>\n",
       "      <td>0.948218</td>\n",
       "      <td>0.683667</td>\n",
       "      <td>-1.013415</td>\n",
       "      <td>-0.766266</td>\n",
       "      <td>-1.013415</td>\n",
       "    </tr>\n",
       "    <tr>\n",
       "      <th>1</th>\n",
       "      <td>-1.720041</td>\n",
       "      <td>0.848235</td>\n",
       "      <td>-0.215209</td>\n",
       "      <td>-0.306968</td>\n",
       "      <td>0.0</td>\n",
       "      <td>1.137629</td>\n",
       "      <td>2.049443</td>\n",
       "      <td>-0.631367</td>\n",
       "      <td>1.414336</td>\n",
       "      <td>0.682599</td>\n",
       "      <td>0.986762</td>\n",
       "      <td>0.082140</td>\n",
       "      <td>0.985015</td>\n",
       "    </tr>\n",
       "    <tr>\n",
       "      <th>2</th>\n",
       "      <td>-1.716946</td>\n",
       "      <td>0.848235</td>\n",
       "      <td>0.714155</td>\n",
       "      <td>0.333785</td>\n",
       "      <td>0.0</td>\n",
       "      <td>1.137629</td>\n",
       "      <td>2.049443</td>\n",
       "      <td>1.101715</td>\n",
       "      <td>1.647395</td>\n",
       "      <td>0.681531</td>\n",
       "      <td>0.986762</td>\n",
       "      <td>0.147402</td>\n",
       "      <td>0.986009</td>\n",
       "    </tr>\n",
       "    <tr>\n",
       "      <th>3</th>\n",
       "      <td>-1.710755</td>\n",
       "      <td>0.848235</td>\n",
       "      <td>-0.728218</td>\n",
       "      <td>-0.522732</td>\n",
       "      <td>0.0</td>\n",
       "      <td>1.137629</td>\n",
       "      <td>2.049443</td>\n",
       "      <td>3.118531</td>\n",
       "      <td>-0.217078</td>\n",
       "      <td>0.691144</td>\n",
       "      <td>-1.013415</td>\n",
       "      <td>-0.766266</td>\n",
       "      <td>-1.013415</td>\n",
       "    </tr>\n",
       "    <tr>\n",
       "      <th>4</th>\n",
       "      <td>-1.707660</td>\n",
       "      <td>0.848235</td>\n",
       "      <td>-0.385799</td>\n",
       "      <td>-0.424657</td>\n",
       "      <td>0.0</td>\n",
       "      <td>1.137629</td>\n",
       "      <td>2.049443</td>\n",
       "      <td>-0.664597</td>\n",
       "      <td>1.647395</td>\n",
       "      <td>0.689008</td>\n",
       "      <td>-1.013415</td>\n",
       "      <td>-0.766266</td>\n",
       "      <td>-1.013415</td>\n",
       "    </tr>\n",
       "    <tr>\n",
       "      <th>...</th>\n",
       "      <td>...</td>\n",
       "      <td>...</td>\n",
       "      <td>...</td>\n",
       "      <td>...</td>\n",
       "      <td>...</td>\n",
       "      <td>...</td>\n",
       "      <td>...</td>\n",
       "      <td>...</td>\n",
       "      <td>...</td>\n",
       "      <td>...</td>\n",
       "      <td>...</td>\n",
       "      <td>...</td>\n",
       "      <td>...</td>\n",
       "    </tr>\n",
       "    <tr>\n",
       "      <th>813564</th>\n",
       "      <td>0.384777</td>\n",
       "      <td>-0.901732</td>\n",
       "      <td>-1.325903</td>\n",
       "      <td>-0.499848</td>\n",
       "      <td>0.0</td>\n",
       "      <td>-0.879021</td>\n",
       "      <td>2.049443</td>\n",
       "      <td>-0.685046</td>\n",
       "      <td>0.948218</td>\n",
       "      <td>0.681531</td>\n",
       "      <td>-1.013415</td>\n",
       "      <td>-0.766266</td>\n",
       "      <td>-1.013415</td>\n",
       "    </tr>\n",
       "    <tr>\n",
       "      <th>813565</th>\n",
       "      <td>0.542639</td>\n",
       "      <td>-0.901732</td>\n",
       "      <td>1.726543</td>\n",
       "      <td>5.420577</td>\n",
       "      <td>0.0</td>\n",
       "      <td>-0.879021</td>\n",
       "      <td>2.049443</td>\n",
       "      <td>-0.594302</td>\n",
       "      <td>1.181277</td>\n",
       "      <td>0.674054</td>\n",
       "      <td>-1.013415</td>\n",
       "      <td>-0.766266</td>\n",
       "      <td>-1.013415</td>\n",
       "    </tr>\n",
       "    <tr>\n",
       "      <th>813566</th>\n",
       "      <td>0.654070</td>\n",
       "      <td>-0.901732</td>\n",
       "      <td>-0.640239</td>\n",
       "      <td>1.729710</td>\n",
       "      <td>0.0</td>\n",
       "      <td>-0.879021</td>\n",
       "      <td>2.049443</td>\n",
       "      <td>-0.596858</td>\n",
       "      <td>-1.149315</td>\n",
       "      <td>-1.461092</td>\n",
       "      <td>0.986762</td>\n",
       "      <td>2.366310</td>\n",
       "      <td>0.987003</td>\n",
       "    </tr>\n",
       "    <tr>\n",
       "      <th>813567</th>\n",
       "      <td>1.208133</td>\n",
       "      <td>-0.901732</td>\n",
       "      <td>-0.864938</td>\n",
       "      <td>1.046459</td>\n",
       "      <td>0.0</td>\n",
       "      <td>-0.879021</td>\n",
       "      <td>2.049443</td>\n",
       "      <td>-0.521451</td>\n",
       "      <td>-1.149315</td>\n",
       "      <td>-1.461092</td>\n",
       "      <td>-1.013415</td>\n",
       "      <td>-0.766266</td>\n",
       "      <td>-1.013415</td>\n",
       "    </tr>\n",
       "    <tr>\n",
       "      <th>813568</th>\n",
       "      <td>1.669336</td>\n",
       "      <td>-0.901732</td>\n",
       "      <td>-0.257753</td>\n",
       "      <td>2.242966</td>\n",
       "      <td>0.0</td>\n",
       "      <td>-0.879021</td>\n",
       "      <td>2.049443</td>\n",
       "      <td>-0.612195</td>\n",
       "      <td>-0.450138</td>\n",
       "      <td>0.677259</td>\n",
       "      <td>-1.013415</td>\n",
       "      <td>-0.766266</td>\n",
       "      <td>-1.013415</td>\n",
       "    </tr>\n",
       "  </tbody>\n",
       "</table>\n",
       "<p>813569 rows × 13 columns</p>\n",
       "</div>"
      ],
      "text/plain": [
       "           Store  DayOfWeek     Sales  Customers  Open     Promo  \\\n",
       "0      -1.723137   0.848235 -0.546063  -0.535808   0.0  1.137629   \n",
       "1      -1.720041   0.848235 -0.215209  -0.306968   0.0  1.137629   \n",
       "2      -1.716946   0.848235  0.714155   0.333785   0.0  1.137629   \n",
       "3      -1.710755   0.848235 -0.728218  -0.522732   0.0  1.137629   \n",
       "4      -1.707660   0.848235 -0.385799  -0.424657   0.0  1.137629   \n",
       "...          ...        ...       ...        ...   ...       ...   \n",
       "813564  0.384777  -0.901732 -1.325903  -0.499848   0.0 -0.879021   \n",
       "813565  0.542639  -0.901732  1.726543   5.420577   0.0 -0.879021   \n",
       "813566  0.654070  -0.901732 -0.640239   1.729710   0.0 -0.879021   \n",
       "813567  1.208133  -0.901732 -0.864938   1.046459   0.0 -0.879021   \n",
       "813568  1.669336  -0.901732 -0.257753   2.242966   0.0 -0.879021   \n",
       "\n",
       "        SchoolHoliday  CompetitionDistance  CompetitionOpenSinceMonth  \\\n",
       "0            2.049443            -0.541901                   0.948218   \n",
       "1            2.049443            -0.631367                   1.414336   \n",
       "2            2.049443             1.101715                   1.647395   \n",
       "3            2.049443             3.118531                  -0.217078   \n",
       "4            2.049443            -0.664597                   1.647395   \n",
       "...               ...                  ...                        ...   \n",
       "813564       2.049443            -0.685046                   0.948218   \n",
       "813565       2.049443            -0.594302                   1.181277   \n",
       "813566       2.049443            -0.596858                  -1.149315   \n",
       "813567       2.049443            -0.521451                  -1.149315   \n",
       "813568       2.049443            -0.612195                  -0.450138   \n",
       "\n",
       "        CompetitionOpenSinceYear    Promo2  Promo2SinceWeek  Promo2SinceYear  \n",
       "0                       0.683667 -1.013415        -0.766266        -1.013415  \n",
       "1                       0.682599  0.986762         0.082140         0.985015  \n",
       "2                       0.681531  0.986762         0.147402         0.986009  \n",
       "3                       0.691144 -1.013415        -0.766266        -1.013415  \n",
       "4                       0.689008 -1.013415        -0.766266        -1.013415  \n",
       "...                          ...       ...              ...              ...  \n",
       "813564                  0.681531 -1.013415        -0.766266        -1.013415  \n",
       "813565                  0.674054 -1.013415        -0.766266        -1.013415  \n",
       "813566                 -1.461092  0.986762         2.366310         0.987003  \n",
       "813567                 -1.461092 -1.013415        -0.766266        -1.013415  \n",
       "813568                  0.677259 -1.013415        -0.766266        -1.013415  \n",
       "\n",
       "[813569 rows x 13 columns]"
      ]
     },
     "execution_count": 32,
     "metadata": {},
     "output_type": "execute_result"
    }
   ],
   "source": [
    "data_cleaner.dataframe"
   ]
  },
  {
   "cell_type": "code",
   "execution_count": null,
   "metadata": {},
   "outputs": [],
   "source": []
  }
 ],
 "metadata": {
  "interpreter": {
   "hash": "63fd5069d213b44bf678585dea6b12cceca9941eaf7f819626cde1f2670de90d"
  },
  "kernelspec": {
   "display_name": "Python 3.9.6 64-bit",
   "language": "python",
   "name": "python3"
  },
  "language_info": {
   "codemirror_mode": {
    "name": "ipython",
    "version": 3
   },
   "file_extension": ".py",
   "mimetype": "text/x-python",
   "name": "python",
   "nbconvert_exporter": "python",
   "pygments_lexer": "ipython3",
   "version": "3.9.6"
  },
  "orig_nbformat": 4
 },
 "nbformat": 4,
 "nbformat_minor": 2
}
