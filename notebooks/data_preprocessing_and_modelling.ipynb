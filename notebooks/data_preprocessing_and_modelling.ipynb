{
 "cells": [
  {
   "cell_type": "code",
   "execution_count": 229,
   "metadata": {},
   "outputs": [
    {
     "name": "stdout",
     "output_type": "stream",
     "text": [
      "The autoreload extension is already loaded. To reload it, use:\n",
      "  %reload_ext autoreload\n"
     ]
    }
   ],
   "source": [
    "%load_ext autoreload\n",
    "%autoreload 2"
   ]
  },
  {
   "cell_type": "code",
   "execution_count": 230,
   "metadata": {},
   "outputs": [],
   "source": [
    "import sys\n",
    "sys.path.insert(0, '../scripts/')"
   ]
  },
  {
   "cell_type": "code",
   "execution_count": 231,
   "metadata": {},
   "outputs": [],
   "source": [
    "import pandas as pd\n",
    "import numpy as np\n",
    "import matplotlib.pyplot as plt\n",
    "import seaborn as sns\n",
    "import os\n",
    "from scipy import stats\n",
    "from datetime import datetime, timedelta\n",
    "from plots import Plots\n",
    "from data_cleaning import DataCleaner\n",
    "from sklearn.ensemble import RandomForestRegressor\n",
    "from sklearn.model_selection import train_test_split\n",
    "from sklearn.metrics import mean_squared_error\n",
    "from sklearn.preprocessing import LabelEncoder\n",
    "from joblib import dump\n",
    "import bisect\n",
    "import datetime\n",
    "%matplotlib inline"
   ]
  },
  {
   "cell_type": "code",
   "execution_count": 232,
   "metadata": {},
   "outputs": [],
   "source": [
    "pwd = os.getcwd()\n",
    "\n",
    "train_file_path = os.path.join(pwd, os.pardir, \"data/train_clean.csv\")\n",
    "test_file_path = os.path.join(pwd, os.pardir, \"data/test_clean.csv\")\n",
    "store_file_path = os.path.join(pwd, os.pardir, \"data/store_clean.csv\")"
   ]
  },
  {
   "cell_type": "code",
   "execution_count": 233,
   "metadata": {},
   "outputs": [],
   "source": [
    "df_train = pd.read_csv(train_file_path, dtype={'StateHoliday': object}, parse_dates=[\"Date\"])\n",
    "df_test = pd.read_csv(test_file_path, dtype={'StateHoliday': object}, parse_dates=[\"Date\"])\n",
    "df_store = pd.read_csv(store_file_path)"
   ]
  },
  {
   "cell_type": "code",
   "execution_count": 234,
   "metadata": {},
   "outputs": [],
   "source": [
    "df_train_store = pd.merge(df_train, df_store, how = 'left', on = 'Store')\n",
    "df_test_store = pd.merge(df_test, df_store, how = 'left', on = 'Store')"
   ]
  },
  {
   "cell_type": "code",
   "execution_count": 235,
   "metadata": {},
   "outputs": [],
   "source": [
    "df_train_store[\"Weekday\"] = df_train_store.apply(lambda x: 1 if x[\"DayOfWeek\"] >= 5 else 0, axis=1)"
   ]
  },
  {
   "cell_type": "code",
   "execution_count": 236,
   "metadata": {},
   "outputs": [],
   "source": [
    "def dateToAndAfterHoliday(df,Column,holidays):\n",
    "    to=[]\n",
    "    after=[]\n",
    "    for a in df[Column]:\n",
    "        index=bisect.bisect(holidays,a)\n",
    "        if len(holidays)==index:\n",
    "            to.append(pd.Timedelta(0, unit='d') )\n",
    "            after.append(a - holidays[index-1])\n",
    "        else:\n",
    "            after.append(holidays[index] - a)\n",
    "            to.append(a -holidays[index-1])\n",
    "    return to, after"
   ]
  },
  {
   "cell_type": "code",
   "execution_count": 237,
   "metadata": {},
   "outputs": [],
   "source": [
    "dates = np.array(df_train_store.loc[df_train_store[\"StateHoliday\"] != \"0\"][\"Date\"].unique())\n",
    "df_train_store[\"To\"], df_train_store[\"After\"] = dateToAndAfterHoliday(df_train_store, \"Date\", dates)"
   ]
  },
  {
   "cell_type": "code",
   "execution_count": 238,
   "metadata": {},
   "outputs": [],
   "source": [
    "df_train_store[\"To\"] = pd.to_numeric(df_train_store['To'].dt.days, downcast='integer')\n",
    "df_train_store[\"After\"] = pd.to_numeric(df_train_store['After'].dt.days, downcast='integer')"
   ]
  },
  {
   "cell_type": "code",
   "execution_count": 239,
   "metadata": {},
   "outputs": [],
   "source": [
    "def startMidEndMonth(x):\n",
    "    if x.day <10:\n",
    "        return 0\n",
    "    elif x.day <20:\n",
    "        return 1\n",
    "    else:\n",
    "        return 2"
   ]
  },
  {
   "cell_type": "code",
   "execution_count": 240,
   "metadata": {},
   "outputs": [],
   "source": [
    "df_train_store[\"MonthState\"] = df_train_store[\"Date\"].apply(startMidEndMonth)"
   ]
  },
  {
   "cell_type": "code",
   "execution_count": 241,
   "metadata": {},
   "outputs": [],
   "source": [
    "data_cleaner_train = DataCleaner(df_train_store)"
   ]
  },
  {
   "cell_type": "code",
   "execution_count": 242,
   "metadata": {},
   "outputs": [],
   "source": [
    "data_cleaner_train.remove_closed_stores()"
   ]
  },
  {
   "cell_type": "code",
   "execution_count": 243,
   "metadata": {},
   "outputs": [],
   "source": [
    "data_cleaner_train.remove_outliers(\"Sales\")"
   ]
  },
  {
   "cell_type": "code",
   "execution_count": 244,
   "metadata": {},
   "outputs": [
    {
     "data": {
      "text/plain": [
       "<AxesSubplot:ylabel='Frequency'>"
      ]
     },
     "execution_count": 244,
     "metadata": {},
     "output_type": "execute_result"
    },
    {
     "data": {
      "image/png": "[encoded data removed]",
      "text/plain": [
       "<Figure size 432x288 with 1 Axes>"
      ]
     },
     "metadata": {
      "needs_background": "light"
     },
     "output_type": "display_data"
    }
   ],
   "source": [
    "data_cleaner_train.dataframe[\"Sales\"].plot(kind=\"hist\")"
   ]
  },
  {
   "cell_type": "code",
   "execution_count": 245,
   "metadata": {},
   "outputs": [],
   "source": [
    "label_encoder = LabelEncoder()"
   ]
  },
  {
   "cell_type": "code",
   "execution_count": 247,
   "metadata": {},
   "outputs": [],
   "source": [
    "data_cleaner_train.dataframe[\"StateHoliday\"] = label_encoder.fit_transform(data_cleaner_train.dataframe[\"StateHoliday\"])\n",
    "data_cleaner_train.dataframe[\"PromoInterval\"] = label_encoder.fit_transform(data_cleaner_train.dataframe[\"PromoInterval\"])"
   ]
  },
  {
   "cell_type": "code",
   "execution_count": 248,
   "metadata": {},
   "outputs": [],
   "source": [
    "data_cleaner_train.scale_dataframe()"
   ]
  },
  {
   "cell_type": "code",
   "execution_count": 249,
   "metadata": {},
   "outputs": [],
   "source": [
    "scaled_df_train = data_cleaner_train.dataframe"
   ]
  },
  {
   "cell_type": "code",
   "execution_count": 250,
   "metadata": {},
   "outputs": [
    {
     "data": {
      "text/html": [
       "<div>\n",
       "<style scoped>\n",
       "    .dataframe tbody tr th:only-of-type {\n",
       "        vertical-align: middle;\n",
       "    }\n",
       "\n",
       "    .dataframe tbody tr th {\n",
       "        vertical-align: top;\n",
       "    }\n",
       "\n",
       "    .dataframe thead th {\n",
       "        text-align: right;\n",
       "    }\n",
       "</style>\n",
       "<table border=\"1\" class=\"dataframe\">\n",
       "  <thead>\n",
       "    <tr style=\"text-align: right;\">\n",
       "      <th></th>\n",
       "      <th>Store</th>\n",
       "      <th>DayOfWeek</th>\n",
       "      <th>Sales</th>\n",
       "      <th>Customers</th>\n",
       "      <th>Open</th>\n",
       "      <th>Promo</th>\n",
       "      <th>StateHoliday</th>\n",
       "      <th>SchoolHoliday</th>\n",
       "      <th>CompetitionDistance</th>\n",
       "      <th>CompetitionOpenSinceMonth</th>\n",
       "      <th>CompetitionOpenSinceYear</th>\n",
       "      <th>Promo2</th>\n",
       "      <th>Promo2SinceWeek</th>\n",
       "      <th>Promo2SinceYear</th>\n",
       "      <th>PromoInterval</th>\n",
       "      <th>Weekday</th>\n",
       "      <th>To</th>\n",
       "      <th>After</th>\n",
       "      <th>MonthState</th>\n",
       "    </tr>\n",
       "  </thead>\n",
       "  <tbody>\n",
       "    <tr>\n",
       "      <th>0</th>\n",
       "      <td>-1.723137</td>\n",
       "      <td>0.848235</td>\n",
       "      <td>-0.546063</td>\n",
       "      <td>-0.535808</td>\n",
       "      <td>0.0</td>\n",
       "      <td>1.137629</td>\n",
       "      <td>-0.027680</td>\n",
       "      <td>2.049443</td>\n",
       "      <td>-0.541901</td>\n",
       "      <td>0.948218</td>\n",
       "      <td>0.683667</td>\n",
       "      <td>-1.013415</td>\n",
       "      <td>-0.766266</td>\n",
       "      <td>-1.013415</td>\n",
       "      <td>0.045384</td>\n",
       "      <td>1.384622</td>\n",
       "      <td>-0.802179</td>\n",
       "      <td>1.859428</td>\n",
       "      <td>1.123134</td>\n",
       "    </tr>\n",
       "    <tr>\n",
       "      <th>1</th>\n",
       "      <td>-1.720041</td>\n",
       "      <td>0.848235</td>\n",
       "      <td>-0.215209</td>\n",
       "      <td>-0.306968</td>\n",
       "      <td>0.0</td>\n",
       "      <td>1.137629</td>\n",
       "      <td>-0.027680</td>\n",
       "      <td>2.049443</td>\n",
       "      <td>-0.631367</td>\n",
       "      <td>1.414336</td>\n",
       "      <td>0.682599</td>\n",
       "      <td>0.986762</td>\n",
       "      <td>0.082140</td>\n",
       "      <td>0.985015</td>\n",
       "      <td>0.045384</td>\n",
       "      <td>1.384622</td>\n",
       "      <td>-0.802179</td>\n",
       "      <td>1.859428</td>\n",
       "      <td>1.123134</td>\n",
       "    </tr>\n",
       "    <tr>\n",
       "      <th>2</th>\n",
       "      <td>-1.716946</td>\n",
       "      <td>0.848235</td>\n",
       "      <td>0.714155</td>\n",
       "      <td>0.333785</td>\n",
       "      <td>0.0</td>\n",
       "      <td>1.137629</td>\n",
       "      <td>-0.027680</td>\n",
       "      <td>2.049443</td>\n",
       "      <td>1.101715</td>\n",
       "      <td>1.647395</td>\n",
       "      <td>0.681531</td>\n",
       "      <td>0.986762</td>\n",
       "      <td>0.147402</td>\n",
       "      <td>0.986009</td>\n",
       "      <td>0.045384</td>\n",
       "      <td>1.384622</td>\n",
       "      <td>-0.802179</td>\n",
       "      <td>1.859428</td>\n",
       "      <td>1.123134</td>\n",
       "    </tr>\n",
       "    <tr>\n",
       "      <th>3</th>\n",
       "      <td>-1.710755</td>\n",
       "      <td>0.848235</td>\n",
       "      <td>-0.728218</td>\n",
       "      <td>-0.522732</td>\n",
       "      <td>0.0</td>\n",
       "      <td>1.137629</td>\n",
       "      <td>-0.027680</td>\n",
       "      <td>2.049443</td>\n",
       "      <td>3.118531</td>\n",
       "      <td>-0.217078</td>\n",
       "      <td>0.691144</td>\n",
       "      <td>-1.013415</td>\n",
       "      <td>-0.766266</td>\n",
       "      <td>-1.013415</td>\n",
       "      <td>0.045384</td>\n",
       "      <td>1.384622</td>\n",
       "      <td>-0.802179</td>\n",
       "      <td>1.859428</td>\n",
       "      <td>1.123134</td>\n",
       "    </tr>\n",
       "    <tr>\n",
       "      <th>4</th>\n",
       "      <td>-1.707660</td>\n",
       "      <td>0.848235</td>\n",
       "      <td>-0.385799</td>\n",
       "      <td>-0.424657</td>\n",
       "      <td>0.0</td>\n",
       "      <td>1.137629</td>\n",
       "      <td>-0.027680</td>\n",
       "      <td>2.049443</td>\n",
       "      <td>-0.664597</td>\n",
       "      <td>1.647395</td>\n",
       "      <td>0.689008</td>\n",
       "      <td>-1.013415</td>\n",
       "      <td>-0.766266</td>\n",
       "      <td>-1.013415</td>\n",
       "      <td>0.045384</td>\n",
       "      <td>1.384622</td>\n",
       "      <td>-0.802179</td>\n",
       "      <td>1.859428</td>\n",
       "      <td>1.123134</td>\n",
       "    </tr>\n",
       "    <tr>\n",
       "      <th>...</th>\n",
       "      <td>...</td>\n",
       "      <td>...</td>\n",
       "      <td>...</td>\n",
       "      <td>...</td>\n",
       "      <td>...</td>\n",
       "      <td>...</td>\n",
       "      <td>...</td>\n",
       "      <td>...</td>\n",
       "      <td>...</td>\n",
       "      <td>...</td>\n",
       "      <td>...</td>\n",
       "      <td>...</td>\n",
       "      <td>...</td>\n",
       "      <td>...</td>\n",
       "      <td>...</td>\n",
       "      <td>...</td>\n",
       "      <td>...</td>\n",
       "      <td>...</td>\n",
       "      <td>...</td>\n",
       "    </tr>\n",
       "    <tr>\n",
       "      <th>813564</th>\n",
       "      <td>0.384777</td>\n",
       "      <td>-0.901732</td>\n",
       "      <td>-1.325903</td>\n",
       "      <td>-0.499848</td>\n",
       "      <td>0.0</td>\n",
       "      <td>-0.879021</td>\n",
       "      <td>22.928481</td>\n",
       "      <td>2.049443</td>\n",
       "      <td>-0.685046</td>\n",
       "      <td>0.948218</td>\n",
       "      <td>0.681531</td>\n",
       "      <td>-1.013415</td>\n",
       "      <td>-0.766266</td>\n",
       "      <td>-1.013415</td>\n",
       "      <td>0.045384</td>\n",
       "      <td>-0.722219</td>\n",
       "      <td>-0.802179</td>\n",
       "      <td>1.455147</td>\n",
       "      <td>-1.350611</td>\n",
       "    </tr>\n",
       "    <tr>\n",
       "      <th>813565</th>\n",
       "      <td>0.542639</td>\n",
       "      <td>-0.901732</td>\n",
       "      <td>1.726543</td>\n",
       "      <td>5.420577</td>\n",
       "      <td>0.0</td>\n",
       "      <td>-0.879021</td>\n",
       "      <td>22.928481</td>\n",
       "      <td>2.049443</td>\n",
       "      <td>-0.594302</td>\n",
       "      <td>1.181277</td>\n",
       "      <td>0.674054</td>\n",
       "      <td>-1.013415</td>\n",
       "      <td>-0.766266</td>\n",
       "      <td>-1.013415</td>\n",
       "      <td>0.045384</td>\n",
       "      <td>-0.722219</td>\n",
       "      <td>-0.802179</td>\n",
       "      <td>1.455147</td>\n",
       "      <td>-1.350611</td>\n",
       "    </tr>\n",
       "    <tr>\n",
       "      <th>813566</th>\n",
       "      <td>0.654070</td>\n",
       "      <td>-0.901732</td>\n",
       "      <td>-0.640239</td>\n",
       "      <td>1.729710</td>\n",
       "      <td>0.0</td>\n",
       "      <td>-0.879021</td>\n",
       "      <td>22.928481</td>\n",
       "      <td>2.049443</td>\n",
       "      <td>-0.596858</td>\n",
       "      <td>-1.149315</td>\n",
       "      <td>-1.461092</td>\n",
       "      <td>0.986762</td>\n",
       "      <td>2.366310</td>\n",
       "      <td>0.987003</td>\n",
       "      <td>0.045384</td>\n",
       "      <td>-0.722219</td>\n",
       "      <td>-0.802179</td>\n",
       "      <td>1.455147</td>\n",
       "      <td>-1.350611</td>\n",
       "    </tr>\n",
       "    <tr>\n",
       "      <th>813567</th>\n",
       "      <td>1.208133</td>\n",
       "      <td>-0.901732</td>\n",
       "      <td>-0.864938</td>\n",
       "      <td>1.046459</td>\n",
       "      <td>0.0</td>\n",
       "      <td>-0.879021</td>\n",
       "      <td>22.928481</td>\n",
       "      <td>2.049443</td>\n",
       "      <td>-0.521451</td>\n",
       "      <td>-1.149315</td>\n",
       "      <td>-1.461092</td>\n",
       "      <td>-1.013415</td>\n",
       "      <td>-0.766266</td>\n",
       "      <td>-1.013415</td>\n",
       "      <td>0.045384</td>\n",
       "      <td>-0.722219</td>\n",
       "      <td>-0.802179</td>\n",
       "      <td>1.455147</td>\n",
       "      <td>-1.350611</td>\n",
       "    </tr>\n",
       "    <tr>\n",
       "      <th>813568</th>\n",
       "      <td>1.669336</td>\n",
       "      <td>-0.901732</td>\n",
       "      <td>-0.257753</td>\n",
       "      <td>2.242966</td>\n",
       "      <td>0.0</td>\n",
       "      <td>-0.879021</td>\n",
       "      <td>22.928481</td>\n",
       "      <td>2.049443</td>\n",
       "      <td>-0.612195</td>\n",
       "      <td>-0.450138</td>\n",
       "      <td>0.677259</td>\n",
       "      <td>-1.013415</td>\n",
       "      <td>-0.766266</td>\n",
       "      <td>-1.013415</td>\n",
       "      <td>0.045384</td>\n",
       "      <td>-0.722219</td>\n",
       "      <td>-0.802179</td>\n",
       "      <td>1.455147</td>\n",
       "      <td>-1.350611</td>\n",
       "    </tr>\n",
       "  </tbody>\n",
       "</table>\n",
       "<p>813569 rows × 19 columns</p>\n",
       "</div>"
      ],
      "text/plain": [
       "           Store  DayOfWeek     Sales  Customers  Open     Promo  \\\n",
       "0      -1.723137   0.848235 -0.546063  -0.535808   0.0  1.137629   \n",
       "1      -1.720041   0.848235 -0.215209  -0.306968   0.0  1.137629   \n",
       "2      -1.716946   0.848235  0.714155   0.333785   0.0  1.137629   \n",
       "3      -1.710755   0.848235 -0.728218  -0.522732   0.0  1.137629   \n",
       "4      -1.707660   0.848235 -0.385799  -0.424657   0.0  1.137629   \n",
       "...          ...        ...       ...        ...   ...       ...   \n",
       "813564  0.384777  -0.901732 -1.325903  -0.499848   0.0 -0.879021   \n",
       "813565  0.542639  -0.901732  1.726543   5.420577   0.0 -0.879021   \n",
       "813566  0.654070  -0.901732 -0.640239   1.729710   0.0 -0.879021   \n",
       "813567  1.208133  -0.901732 -0.864938   1.046459   0.0 -0.879021   \n",
       "813568  1.669336  -0.901732 -0.257753   2.242966   0.0 -0.879021   \n",
       "\n",
       "        StateHoliday  SchoolHoliday  CompetitionDistance  \\\n",
       "0          -0.027680       2.049443            -0.541901   \n",
       "1          -0.027680       2.049443            -0.631367   \n",
       "2          -0.027680       2.049443             1.101715   \n",
       "3          -0.027680       2.049443             3.118531   \n",
       "4          -0.027680       2.049443            -0.664597   \n",
       "...              ...            ...                  ...   \n",
       "813564     22.928481       2.049443            -0.685046   \n",
       "813565     22.928481       2.049443            -0.594302   \n",
       "813566     22.928481       2.049443            -0.596858   \n",
       "813567     22.928481       2.049443            -0.521451   \n",
       "813568     22.928481       2.049443            -0.612195   \n",
       "\n",
       "        CompetitionOpenSinceMonth  CompetitionOpenSinceYear    Promo2  \\\n",
       "0                        0.948218                  0.683667 -1.013415   \n",
       "1                        1.414336                  0.682599  0.986762   \n",
       "2                        1.647395                  0.681531  0.986762   \n",
       "3                       -0.217078                  0.691144 -1.013415   \n",
       "4                        1.647395                  0.689008 -1.013415   \n",
       "...                           ...                       ...       ...   \n",
       "813564                   0.948218                  0.681531 -1.013415   \n",
       "813565                   1.181277                  0.674054 -1.013415   \n",
       "813566                  -1.149315                 -1.461092  0.986762   \n",
       "813567                  -1.149315                 -1.461092 -1.013415   \n",
       "813568                  -0.450138                  0.677259 -1.013415   \n",
       "\n",
       "        Promo2SinceWeek  Promo2SinceYear  PromoInterval   Weekday        To  \\\n",
       "0             -0.766266        -1.013415       0.045384  1.384622 -0.802179   \n",
       "1              0.082140         0.985015       0.045384  1.384622 -0.802179   \n",
       "2              0.147402         0.986009       0.045384  1.384622 -0.802179   \n",
       "3             -0.766266        -1.013415       0.045384  1.384622 -0.802179   \n",
       "4             -0.766266        -1.013415       0.045384  1.384622 -0.802179   \n",
       "...                 ...              ...            ...       ...       ...   \n",
       "813564        -0.766266        -1.013415       0.045384 -0.722219 -0.802179   \n",
       "813565        -0.766266        -1.013415       0.045384 -0.722219 -0.802179   \n",
       "813566         2.366310         0.987003       0.045384 -0.722219 -0.802179   \n",
       "813567        -0.766266        -1.013415       0.045384 -0.722219 -0.802179   \n",
       "813568        -0.766266        -1.013415       0.045384 -0.722219 -0.802179   \n",
       "\n",
       "           After  MonthState  \n",
       "0       1.859428    1.123134  \n",
       "1       1.859428    1.123134  \n",
       "2       1.859428    1.123134  \n",
       "3       1.859428    1.123134  \n",
       "4       1.859428    1.123134  \n",
       "...          ...         ...  \n",
       "813564  1.455147   -1.350611  \n",
       "813565  1.455147   -1.350611  \n",
       "813566  1.455147   -1.350611  \n",
       "813567  1.455147   -1.350611  \n",
       "813568  1.455147   -1.350611  \n",
       "\n",
       "[813569 rows x 19 columns]"
      ]
     },
     "execution_count": 250,
     "metadata": {},
     "output_type": "execute_result"
    }
   ],
   "source": [
    "scaled_df_train"
   ]
  },
  {
   "cell_type": "code",
   "execution_count": 251,
   "metadata": {},
   "outputs": [],
   "source": [
    "X = scaled_df_train\n",
    "y = scaled_df_train.drop(columns=[\"Sales\"], axis=1)"
   ]
  },
  {
   "cell_type": "code",
   "execution_count": 252,
   "metadata": {},
   "outputs": [],
   "source": [
    "X_train, X_test, y_train, y_test = train_test_split(X, y, train_size=0.8, test_size=0.2)"
   ]
  },
  {
   "cell_type": "code",
   "execution_count": 253,
   "metadata": {},
   "outputs": [],
   "source": [
    "regressor = RandomForestRegressor(n_estimators=10, max_depth=16, n_jobs=-1)"
   ]
  },
  {
   "cell_type": "code",
   "execution_count": 254,
   "metadata": {},
   "outputs": [
    {
     "data": {
      "text/plain": [
       "RandomForestRegressor(max_depth=16, n_estimators=10, n_jobs=-1)"
      ]
     },
     "execution_count": 254,
     "metadata": {},
     "output_type": "execute_result"
    }
   ],
   "source": [
    "regressor.fit(X_train, y_train)"
   ]
  },
  {
   "cell_type": "code",
   "execution_count": 255,
   "metadata": {},
   "outputs": [],
   "source": [
    "y_pred = regressor.predict(X_test)"
   ]
  },
  {
   "cell_type": "code",
   "execution_count": 256,
   "metadata": {},
   "outputs": [
    {
     "name": "stdout",
     "output_type": "stream",
     "text": [
      "R-squared: 0.9631744527994613\n"
     ]
    }
   ],
   "source": [
    "score = regressor.score(X_train, y_train)\n",
    "print(\"R-squared:\", score)"
   ]
  },
  {
   "cell_type": "code",
   "execution_count": 257,
   "metadata": {},
   "outputs": [
    {
     "name": "stdout",
     "output_type": "stream",
     "text": [
      "MSE:  0.04451154241165513\n",
      "RMSE:  0.022255771205827564\n"
     ]
    }
   ],
   "source": [
    "mse = mean_squared_error(y_test, y_pred)\n",
    "print(\"MSE: \", mse)\n",
    "print(\"RMSE: \", mse*(1/2.0))"
   ]
  },
  {
   "cell_type": "code",
   "execution_count": 258,
   "metadata": {},
   "outputs": [],
   "source": [
    "model_timestamp = datetime.datetime.now().strftime(\"%Y-%m-%d-%H-%M-%S\")\n",
    "model_file_path = os.path.join(pwd, os.pardir, 'models')"
   ]
  },
  {
   "cell_type": "code",
   "execution_count": 259,
   "metadata": {},
   "outputs": [
    {
     "data": {
      "text/plain": [
       "['c:\\\\Users\\\\user\\\\Desktop\\\\10_Academy\\\\Week_3\\\\Technical\\\\Pharmaceutical-Sales\\\\notebooks\\\\..\\\\models/2022-05-28-17-13-16.pkl']"
      ]
     },
     "execution_count": 259,
     "metadata": {},
     "output_type": "execute_result"
    }
   ],
   "source": [
    "dump(filename=f'{model_file_path}/{model_timestamp}.pkl', value=regressor, compress=9)"
   ]
  },
  {
   "cell_type": "code",
   "execution_count": 260,
   "metadata": {},
   "outputs": [],
   "source": [
    "feature_importance = pd.DataFrame({\"Feature\": X.columns, \"Importance\": regressor.feature_importances_})"
   ]
  },
  {
   "cell_type": "code",
   "execution_count": 261,
   "metadata": {},
   "outputs": [
    {
     "data": {
      "text/html": [
       "<div>\n",
       "<style scoped>\n",
       "    .dataframe tbody tr th:only-of-type {\n",
       "        vertical-align: middle;\n",
       "    }\n",
       "\n",
       "    .dataframe tbody tr th {\n",
       "        vertical-align: top;\n",
       "    }\n",
       "\n",
       "    .dataframe thead th {\n",
       "        text-align: right;\n",
       "    }\n",
       "</style>\n",
       "<table border=\"1\" class=\"dataframe\">\n",
       "  <thead>\n",
       "    <tr style=\"text-align: right;\">\n",
       "      <th></th>\n",
       "      <th>Feature</th>\n",
       "      <th>Importance</th>\n",
       "    </tr>\n",
       "  </thead>\n",
       "  <tbody>\n",
       "    <tr>\n",
       "      <th>0</th>\n",
       "      <td>Store</td>\n",
       "      <td>0.054218</td>\n",
       "    </tr>\n",
       "    <tr>\n",
       "      <th>1</th>\n",
       "      <td>DayOfWeek</td>\n",
       "      <td>0.088075</td>\n",
       "    </tr>\n",
       "    <tr>\n",
       "      <th>2</th>\n",
       "      <td>Sales</td>\n",
       "      <td>0.001093</td>\n",
       "    </tr>\n",
       "    <tr>\n",
       "      <th>3</th>\n",
       "      <td>Customers</td>\n",
       "      <td>0.046477</td>\n",
       "    </tr>\n",
       "    <tr>\n",
       "      <th>4</th>\n",
       "      <td>Open</td>\n",
       "      <td>0.000000</td>\n",
       "    </tr>\n",
       "    <tr>\n",
       "      <th>5</th>\n",
       "      <td>Promo</td>\n",
       "      <td>0.061830</td>\n",
       "    </tr>\n",
       "    <tr>\n",
       "      <th>6</th>\n",
       "      <td>StateHoliday</td>\n",
       "      <td>0.059740</td>\n",
       "    </tr>\n",
       "    <tr>\n",
       "      <th>7</th>\n",
       "      <td>SchoolHoliday</td>\n",
       "      <td>0.061742</td>\n",
       "    </tr>\n",
       "    <tr>\n",
       "      <th>8</th>\n",
       "      <td>CompetitionDistance</td>\n",
       "      <td>0.055683</td>\n",
       "    </tr>\n",
       "    <tr>\n",
       "      <th>9</th>\n",
       "      <td>CompetitionOpenSinceMonth</td>\n",
       "      <td>0.076651</td>\n",
       "    </tr>\n",
       "    <tr>\n",
       "      <th>10</th>\n",
       "      <td>CompetitionOpenSinceYear</td>\n",
       "      <td>0.041526</td>\n",
       "    </tr>\n",
       "    <tr>\n",
       "      <th>11</th>\n",
       "      <td>Promo2</td>\n",
       "      <td>0.032658</td>\n",
       "    </tr>\n",
       "    <tr>\n",
       "      <th>12</th>\n",
       "      <td>Promo2SinceWeek</td>\n",
       "      <td>0.104622</td>\n",
       "    </tr>\n",
       "    <tr>\n",
       "      <th>13</th>\n",
       "      <td>Promo2SinceYear</td>\n",
       "      <td>0.049405</td>\n",
       "    </tr>\n",
       "    <tr>\n",
       "      <th>14</th>\n",
       "      <td>PromoInterval</td>\n",
       "      <td>0.062559</td>\n",
       "    </tr>\n",
       "    <tr>\n",
       "      <th>15</th>\n",
       "      <td>Weekday</td>\n",
       "      <td>0.032735</td>\n",
       "    </tr>\n",
       "    <tr>\n",
       "      <th>16</th>\n",
       "      <td>To</td>\n",
       "      <td>0.081704</td>\n",
       "    </tr>\n",
       "    <tr>\n",
       "      <th>17</th>\n",
       "      <td>After</td>\n",
       "      <td>0.030236</td>\n",
       "    </tr>\n",
       "    <tr>\n",
       "      <th>18</th>\n",
       "      <td>MonthState</td>\n",
       "      <td>0.059047</td>\n",
       "    </tr>\n",
       "  </tbody>\n",
       "</table>\n",
       "</div>"
      ],
      "text/plain": [
       "                      Feature  Importance\n",
       "0                       Store    0.054218\n",
       "1                   DayOfWeek    0.088075\n",
       "2                       Sales    0.001093\n",
       "3                   Customers    0.046477\n",
       "4                        Open    0.000000\n",
       "5                       Promo    0.061830\n",
       "6                StateHoliday    0.059740\n",
       "7               SchoolHoliday    0.061742\n",
       "8         CompetitionDistance    0.055683\n",
       "9   CompetitionOpenSinceMonth    0.076651\n",
       "10   CompetitionOpenSinceYear    0.041526\n",
       "11                     Promo2    0.032658\n",
       "12            Promo2SinceWeek    0.104622\n",
       "13            Promo2SinceYear    0.049405\n",
       "14              PromoInterval    0.062559\n",
       "15                    Weekday    0.032735\n",
       "16                         To    0.081704\n",
       "17                      After    0.030236\n",
       "18                 MonthState    0.059047"
      ]
     },
     "execution_count": 261,
     "metadata": {},
     "output_type": "execute_result"
    }
   ],
   "source": [
    "feature_importance"
   ]
  },
  {
   "cell_type": "code",
   "execution_count": 262,
   "metadata": {},
   "outputs": [],
   "source": [
    "plt.style.use('seaborn')"
   ]
  },
  {
   "cell_type": "code",
   "execution_count": 263,
   "metadata": {},
   "outputs": [
    {
     "data": {
      "text/plain": [
       "<AxesSubplot:title={'center':'Feature Importance'}, ylabel='Feature'>"
      ]
     },
     "execution_count": 263,
     "metadata": {},
     "output_type": "execute_result"
    },
    {
     "data": {
      "image/png": "[encoded data removed]",
      "text/plain": [
       "<Figure size 1440x720 with 1 Axes>"
      ]
     },
     "metadata": {},
     "output_type": "display_data"
    }
   ],
   "source": [
    "feature_importance.sort_values(by=\"Importance\").plot(kind=\"barh\", x=\"Feature\", y=\"Importance\", title=\"Feature Importance\", legend=False, figsize=(20, 10))"
   ]
  },
  {
   "cell_type": "code",
   "execution_count": null,
   "metadata": {},
   "outputs": [],
   "source": []
  }
 ],
 "metadata": {
  "interpreter": {
   "hash": "63fd5069d213b44bf678585dea6b12cceca9941eaf7f819626cde1f2670de90d"
  },
  "kernelspec": {
   "display_name": "Python 3.9.6 64-bit",
   "language": "python",
   "name": "python3"
  },
  "language_info": {
   "codemirror_mode": {
    "name": "ipython",
    "version": 3
   },
   "file_extension": ".py",
   "mimetype": "text/x-python",
   "name": "python",
   "nbconvert_exporter": "python",
   "pygments_lexer": "ipython3",
   "version": "3.9.6"
  },
  "orig_nbformat": 4
 },
 "nbformat": 4,
 "nbformat_minor": 2
}
