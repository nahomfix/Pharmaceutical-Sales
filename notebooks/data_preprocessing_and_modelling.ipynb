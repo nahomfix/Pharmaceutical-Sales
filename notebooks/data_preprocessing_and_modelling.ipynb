{
 "cells": [
  {
   "cell_type": "code",
   "execution_count": 2,
   "metadata": {},
   "outputs": [],
   "source": [
    "%load_ext autoreload\n",
    "%autoreload 2"
   ]
  },
  {
   "cell_type": "code",
   "execution_count": 3,
   "metadata": {},
   "outputs": [],
   "source": [
    "import sys\n",
    "sys.path.insert(0, '../scripts/')"
   ]
  },
  {
   "cell_type": "code",
   "execution_count": 27,
   "metadata": {},
   "outputs": [],
   "source": [
    "import pandas as pd\n",
    "import numpy as np\n",
    "import matplotlib.pyplot as plt\n",
    "import seaborn as sns\n",
    "import os\n",
    "from scipy import stats\n",
    "from datetime import datetime, timedelta\n",
    "from plots import Plots\n",
    "from data_cleaning import DataCleaner\n",
    "from sklearn.ensemble import RandomForestRegressor\n",
    "from sklearn.model_selection import train_test_split\n",
    "from sklearn.metrics import mean_squared_error\n",
    "from joblib import dump\n",
    "import datetime\n",
    "%matplotlib inline"
   ]
  },
  {
   "cell_type": "code",
   "execution_count": 5,
   "metadata": {},
   "outputs": [],
   "source": [
    "pwd = os.getcwd()\n",
    "\n",
    "train_file_path = os.path.join(pwd, os.pardir, \"data/train_clean.csv\")\n",
    "test_file_path = os.path.join(pwd, os.pardir, \"data/test_clean.csv\")\n",
    "store_file_path = os.path.join(pwd, os.pardir, \"data/store.csv\")"
   ]
  },
  {
   "cell_type": "code",
   "execution_count": 6,
   "metadata": {},
   "outputs": [],
   "source": [
    "df_train = pd.read_csv(train_file_path, dtype={'StateHoliday': object}, parse_dates=[\"Date\"])\n",
    "df_test = pd.read_csv(test_file_path, dtype={'StateHoliday': object}, parse_dates=[\"Date\"])\n",
    "df_store = pd.read_csv(store_file_path)"
   ]
  },
  {
   "cell_type": "code",
   "execution_count": 7,
   "metadata": {},
   "outputs": [],
   "source": [
    "data_cleaner_store = DataCleaner(df_store)"
   ]
  },
  {
   "cell_type": "code",
   "execution_count": 8,
   "metadata": {},
   "outputs": [
    {
     "data": {
      "text/plain": [
       "Store                        100.000000\n",
       "StoreType                    100.000000\n",
       "Assortment                   100.000000\n",
       "CompetitionDistance           99.730942\n",
       "CompetitionOpenSinceMonth     68.251121\n",
       "CompetitionOpenSinceYear      68.251121\n",
       "Promo2                       100.000000\n",
       "Promo2SinceWeek               51.210762\n",
       "Promo2SinceYear               51.210762\n",
       "PromoInterval                 51.210762\n",
       "dtype: float64"
      ]
     },
     "execution_count": 8,
     "metadata": {},
     "output_type": "execute_result"
    }
   ],
   "source": [
    "data_cleaner_store.show_missing_percentages()"
   ]
  },
  {
   "cell_type": "code",
   "execution_count": 9,
   "metadata": {},
   "outputs": [],
   "source": [
    "data_cleaner_store.fill_missing_column_zero(\"CompetitionDistance\")\n",
    "data_cleaner_store.fill_missing_column_zero(\"CompetitionOpenSinceMonth\")\n",
    "data_cleaner_store.fill_missing_column_zero(\"CompetitionOpenSinceYear\")\n",
    "data_cleaner_store.fill_missing_column_zero(\"Promo2SinceWeek\")\n",
    "data_cleaner_store.fill_missing_column_zero(\"Promo2SinceYear\")"
   ]
  },
  {
   "cell_type": "code",
   "execution_count": 10,
   "metadata": {},
   "outputs": [],
   "source": [
    "data_cleaner_store.fill_missing_empty_string(\"PromoInterval\")"
   ]
  },
  {
   "cell_type": "code",
   "execution_count": 11,
   "metadata": {},
   "outputs": [],
   "source": [
    "df_store = data_cleaner_store.dataframe"
   ]
  },
  {
   "cell_type": "code",
   "execution_count": 12,
   "metadata": {},
   "outputs": [],
   "source": [
    "df_train_store = pd.merge(df_train, df_store, how = 'left', on = 'Store')\n",
    "df_test_store = pd.merge(df_test, df_store, how = 'left', on = 'Store')"
   ]
  },
  {
   "cell_type": "code",
   "execution_count": 13,
   "metadata": {},
   "outputs": [],
   "source": [
    "data_cleaner_train = DataCleaner(df_train_store)"
   ]
  },
  {
   "cell_type": "code",
   "execution_count": 14,
   "metadata": {},
   "outputs": [],
   "source": [
    "data_cleaner_train.remove_closed_stores()"
   ]
  },
  {
   "cell_type": "code",
   "execution_count": 15,
   "metadata": {},
   "outputs": [],
   "source": [
    "data_cleaner_train.remove_outliers(\"Sales\")"
   ]
  },
  {
   "cell_type": "code",
   "execution_count": 16,
   "metadata": {},
   "outputs": [
    {
     "data": {
      "text/plain": [
       "<AxesSubplot:ylabel='Frequency'>"
      ]
     },
     "execution_count": 16,
     "metadata": {},
     "output_type": "execute_result"
    },
    {
     "data": {
      "image/png": "[encoded data removed]",
      "text/plain": [
       "<Figure size 432x288 with 1 Axes>"
      ]
     },
     "metadata": {
      "needs_background": "light"
     },
     "output_type": "display_data"
    }
   ],
   "source": [
    "data_cleaner_train.dataframe[\"Sales\"].plot(kind=\"hist\")"
   ]
  },
  {
   "cell_type": "code",
   "execution_count": 17,
   "metadata": {},
   "outputs": [],
   "source": [
    "data_cleaner_train.scale_dataframe()"
   ]
  },
  {
   "cell_type": "code",
   "execution_count": 18,
   "metadata": {},
   "outputs": [],
   "source": [
    "scaled_df_train = data_cleaner_train.dataframe"
   ]
  },
  {
   "cell_type": "code",
   "execution_count": 19,
   "metadata": {},
   "outputs": [
    {
     "data": {
      "text/html": [
       "<div>\n",
       "<style scoped>\n",
       "    .dataframe tbody tr th:only-of-type {\n",
       "        vertical-align: middle;\n",
       "    }\n",
       "\n",
       "    .dataframe tbody tr th {\n",
       "        vertical-align: top;\n",
       "    }\n",
       "\n",
       "    .dataframe thead th {\n",
       "        text-align: right;\n",
       "    }\n",
       "</style>\n",
       "<table border=\"1\" class=\"dataframe\">\n",
       "  <thead>\n",
       "    <tr style=\"text-align: right;\">\n",
       "      <th></th>\n",
       "      <th>Store</th>\n",
       "      <th>DayOfWeek</th>\n",
       "      <th>Sales</th>\n",
       "      <th>Customers</th>\n",
       "      <th>Open</th>\n",
       "      <th>Promo</th>\n",
       "      <th>SchoolHoliday</th>\n",
       "      <th>CompetitionDistance</th>\n",
       "      <th>CompetitionOpenSinceMonth</th>\n",
       "      <th>CompetitionOpenSinceYear</th>\n",
       "      <th>Promo2</th>\n",
       "      <th>Promo2SinceWeek</th>\n",
       "      <th>Promo2SinceYear</th>\n",
       "    </tr>\n",
       "  </thead>\n",
       "  <tbody>\n",
       "    <tr>\n",
       "      <th>0</th>\n",
       "      <td>-1.723137</td>\n",
       "      <td>0.848235</td>\n",
       "      <td>-0.546063</td>\n",
       "      <td>-0.535808</td>\n",
       "      <td>0.0</td>\n",
       "      <td>1.137629</td>\n",
       "      <td>2.049443</td>\n",
       "      <td>-0.541901</td>\n",
       "      <td>0.948218</td>\n",
       "      <td>0.683667</td>\n",
       "      <td>-1.013415</td>\n",
       "      <td>-0.766266</td>\n",
       "      <td>-1.013415</td>\n",
       "    </tr>\n",
       "    <tr>\n",
       "      <th>1</th>\n",
       "      <td>-1.720041</td>\n",
       "      <td>0.848235</td>\n",
       "      <td>-0.215209</td>\n",
       "      <td>-0.306968</td>\n",
       "      <td>0.0</td>\n",
       "      <td>1.137629</td>\n",
       "      <td>2.049443</td>\n",
       "      <td>-0.631367</td>\n",
       "      <td>1.414336</td>\n",
       "      <td>0.682599</td>\n",
       "      <td>0.986762</td>\n",
       "      <td>0.082140</td>\n",
       "      <td>0.985015</td>\n",
       "    </tr>\n",
       "    <tr>\n",
       "      <th>2</th>\n",
       "      <td>-1.716946</td>\n",
       "      <td>0.848235</td>\n",
       "      <td>0.714155</td>\n",
       "      <td>0.333785</td>\n",
       "      <td>0.0</td>\n",
       "      <td>1.137629</td>\n",
       "      <td>2.049443</td>\n",
       "      <td>1.101715</td>\n",
       "      <td>1.647395</td>\n",
       "      <td>0.681531</td>\n",
       "      <td>0.986762</td>\n",
       "      <td>0.147402</td>\n",
       "      <td>0.986009</td>\n",
       "    </tr>\n",
       "    <tr>\n",
       "      <th>3</th>\n",
       "      <td>-1.710755</td>\n",
       "      <td>0.848235</td>\n",
       "      <td>-0.728218</td>\n",
       "      <td>-0.522732</td>\n",
       "      <td>0.0</td>\n",
       "      <td>1.137629</td>\n",
       "      <td>2.049443</td>\n",
       "      <td>3.118531</td>\n",
       "      <td>-0.217078</td>\n",
       "      <td>0.691144</td>\n",
       "      <td>-1.013415</td>\n",
       "      <td>-0.766266</td>\n",
       "      <td>-1.013415</td>\n",
       "    </tr>\n",
       "    <tr>\n",
       "      <th>4</th>\n",
       "      <td>-1.707660</td>\n",
       "      <td>0.848235</td>\n",
       "      <td>-0.385799</td>\n",
       "      <td>-0.424657</td>\n",
       "      <td>0.0</td>\n",
       "      <td>1.137629</td>\n",
       "      <td>2.049443</td>\n",
       "      <td>-0.664597</td>\n",
       "      <td>1.647395</td>\n",
       "      <td>0.689008</td>\n",
       "      <td>-1.013415</td>\n",
       "      <td>-0.766266</td>\n",
       "      <td>-1.013415</td>\n",
       "    </tr>\n",
       "    <tr>\n",
       "      <th>...</th>\n",
       "      <td>...</td>\n",
       "      <td>...</td>\n",
       "      <td>...</td>\n",
       "      <td>...</td>\n",
       "      <td>...</td>\n",
       "      <td>...</td>\n",
       "      <td>...</td>\n",
       "      <td>...</td>\n",
       "      <td>...</td>\n",
       "      <td>...</td>\n",
       "      <td>...</td>\n",
       "      <td>...</td>\n",
       "      <td>...</td>\n",
       "    </tr>\n",
       "    <tr>\n",
       "      <th>813564</th>\n",
       "      <td>0.384777</td>\n",
       "      <td>-0.901732</td>\n",
       "      <td>-1.325903</td>\n",
       "      <td>-0.499848</td>\n",
       "      <td>0.0</td>\n",
       "      <td>-0.879021</td>\n",
       "      <td>2.049443</td>\n",
       "      <td>-0.685046</td>\n",
       "      <td>0.948218</td>\n",
       "      <td>0.681531</td>\n",
       "      <td>-1.013415</td>\n",
       "      <td>-0.766266</td>\n",
       "      <td>-1.013415</td>\n",
       "    </tr>\n",
       "    <tr>\n",
       "      <th>813565</th>\n",
       "      <td>0.542639</td>\n",
       "      <td>-0.901732</td>\n",
       "      <td>1.726543</td>\n",
       "      <td>5.420577</td>\n",
       "      <td>0.0</td>\n",
       "      <td>-0.879021</td>\n",
       "      <td>2.049443</td>\n",
       "      <td>-0.594302</td>\n",
       "      <td>1.181277</td>\n",
       "      <td>0.674054</td>\n",
       "      <td>-1.013415</td>\n",
       "      <td>-0.766266</td>\n",
       "      <td>-1.013415</td>\n",
       "    </tr>\n",
       "    <tr>\n",
       "      <th>813566</th>\n",
       "      <td>0.654070</td>\n",
       "      <td>-0.901732</td>\n",
       "      <td>-0.640239</td>\n",
       "      <td>1.729710</td>\n",
       "      <td>0.0</td>\n",
       "      <td>-0.879021</td>\n",
       "      <td>2.049443</td>\n",
       "      <td>-0.596858</td>\n",
       "      <td>-1.149315</td>\n",
       "      <td>-1.461092</td>\n",
       "      <td>0.986762</td>\n",
       "      <td>2.366310</td>\n",
       "      <td>0.987003</td>\n",
       "    </tr>\n",
       "    <tr>\n",
       "      <th>813567</th>\n",
       "      <td>1.208133</td>\n",
       "      <td>-0.901732</td>\n",
       "      <td>-0.864938</td>\n",
       "      <td>1.046459</td>\n",
       "      <td>0.0</td>\n",
       "      <td>-0.879021</td>\n",
       "      <td>2.049443</td>\n",
       "      <td>-0.521451</td>\n",
       "      <td>-1.149315</td>\n",
       "      <td>-1.461092</td>\n",
       "      <td>-1.013415</td>\n",
       "      <td>-0.766266</td>\n",
       "      <td>-1.013415</td>\n",
       "    </tr>\n",
       "    <tr>\n",
       "      <th>813568</th>\n",
       "      <td>1.669336</td>\n",
       "      <td>-0.901732</td>\n",
       "      <td>-0.257753</td>\n",
       "      <td>2.242966</td>\n",
       "      <td>0.0</td>\n",
       "      <td>-0.879021</td>\n",
       "      <td>2.049443</td>\n",
       "      <td>-0.612195</td>\n",
       "      <td>-0.450138</td>\n",
       "      <td>0.677259</td>\n",
       "      <td>-1.013415</td>\n",
       "      <td>-0.766266</td>\n",
       "      <td>-1.013415</td>\n",
       "    </tr>\n",
       "  </tbody>\n",
       "</table>\n",
       "<p>813569 rows × 13 columns</p>\n",
       "</div>"
      ],
      "text/plain": [
       "           Store  DayOfWeek     Sales  Customers  Open     Promo  \\\n",
       "0      -1.723137   0.848235 -0.546063  -0.535808   0.0  1.137629   \n",
       "1      -1.720041   0.848235 -0.215209  -0.306968   0.0  1.137629   \n",
       "2      -1.716946   0.848235  0.714155   0.333785   0.0  1.137629   \n",
       "3      -1.710755   0.848235 -0.728218  -0.522732   0.0  1.137629   \n",
       "4      -1.707660   0.848235 -0.385799  -0.424657   0.0  1.137629   \n",
       "...          ...        ...       ...        ...   ...       ...   \n",
       "813564  0.384777  -0.901732 -1.325903  -0.499848   0.0 -0.879021   \n",
       "813565  0.542639  -0.901732  1.726543   5.420577   0.0 -0.879021   \n",
       "813566  0.654070  -0.901732 -0.640239   1.729710   0.0 -0.879021   \n",
       "813567  1.208133  -0.901732 -0.864938   1.046459   0.0 -0.879021   \n",
       "813568  1.669336  -0.901732 -0.257753   2.242966   0.0 -0.879021   \n",
       "\n",
       "        SchoolHoliday  CompetitionDistance  CompetitionOpenSinceMonth  \\\n",
       "0            2.049443            -0.541901                   0.948218   \n",
       "1            2.049443            -0.631367                   1.414336   \n",
       "2            2.049443             1.101715                   1.647395   \n",
       "3            2.049443             3.118531                  -0.217078   \n",
       "4            2.049443            -0.664597                   1.647395   \n",
       "...               ...                  ...                        ...   \n",
       "813564       2.049443            -0.685046                   0.948218   \n",
       "813565       2.049443            -0.594302                   1.181277   \n",
       "813566       2.049443            -0.596858                  -1.149315   \n",
       "813567       2.049443            -0.521451                  -1.149315   \n",
       "813568       2.049443            -0.612195                  -0.450138   \n",
       "\n",
       "        CompetitionOpenSinceYear    Promo2  Promo2SinceWeek  Promo2SinceYear  \n",
       "0                       0.683667 -1.013415        -0.766266        -1.013415  \n",
       "1                       0.682599  0.986762         0.082140         0.985015  \n",
       "2                       0.681531  0.986762         0.147402         0.986009  \n",
       "3                       0.691144 -1.013415        -0.766266        -1.013415  \n",
       "4                       0.689008 -1.013415        -0.766266        -1.013415  \n",
       "...                          ...       ...              ...              ...  \n",
       "813564                  0.681531 -1.013415        -0.766266        -1.013415  \n",
       "813565                  0.674054 -1.013415        -0.766266        -1.013415  \n",
       "813566                 -1.461092  0.986762         2.366310         0.987003  \n",
       "813567                 -1.461092 -1.013415        -0.766266        -1.013415  \n",
       "813568                  0.677259 -1.013415        -0.766266        -1.013415  \n",
       "\n",
       "[813569 rows x 13 columns]"
      ]
     },
     "execution_count": 19,
     "metadata": {},
     "output_type": "execute_result"
    }
   ],
   "source": [
    "scaled_df_train"
   ]
  },
  {
   "cell_type": "code",
   "execution_count": 20,
   "metadata": {},
   "outputs": [],
   "source": [
    "X = scaled_df_train\n",
    "y = scaled_df_train.drop(columns=[\"Sales\"], axis=1)"
   ]
  },
  {
   "cell_type": "code",
   "execution_count": 21,
   "metadata": {},
   "outputs": [],
   "source": [
    "X_train, X_test, y_train, y_test = train_test_split(X, y, train_size=0.8, test_size=0.2)"
   ]
  },
  {
   "cell_type": "code",
   "execution_count": 95,
   "metadata": {},
   "outputs": [],
   "source": [
    "regressor = RandomForestRegressor(n_estimators=10, max_depth=16, n_jobs=-1)"
   ]
  },
  {
   "cell_type": "code",
   "execution_count": 96,
   "metadata": {},
   "outputs": [
    {
     "data": {
      "text/plain": [
       "RandomForestRegressor(max_depth=16, n_estimators=10, n_jobs=-1)"
      ]
     },
     "execution_count": 96,
     "metadata": {},
     "output_type": "execute_result"
    }
   ],
   "source": [
    "regressor.fit(X_train, y_train)"
   ]
  },
  {
   "cell_type": "code",
   "execution_count": 97,
   "metadata": {},
   "outputs": [],
   "source": [
    "y_pred = regressor.predict(X_test)"
   ]
  },
  {
   "cell_type": "code",
   "execution_count": 98,
   "metadata": {},
   "outputs": [
    {
     "name": "stdout",
     "output_type": "stream",
     "text": [
      "R-squared: 0.9972055336551344\n"
     ]
    }
   ],
   "source": [
    "score = regressor.score(X_train, y_train)\n",
    "print(\"R-squared:\", score)"
   ]
  },
  {
   "cell_type": "code",
   "execution_count": 99,
   "metadata": {},
   "outputs": [
    {
     "name": "stdout",
     "output_type": "stream",
     "text": [
      "MSE:  0.0033077253142883615\n",
      "RMSE:  0.0016538626571441807\n"
     ]
    }
   ],
   "source": [
    "mse = mean_squared_error(y_test, y_pred)\n",
    "print(\"MSE: \", mse)\n",
    "print(\"RMSE: \", mse*(1/2.0))"
   ]
  },
  {
   "cell_type": "code",
   "execution_count": 100,
   "metadata": {},
   "outputs": [],
   "source": [
    "model_timestamp = datetime.datetime.now().strftime(\"%Y-%m-%d-%H-%M-%S\")\n",
    "model_file_path = os.path.join(pwd, os.pardir, 'models')"
   ]
  },
  {
   "cell_type": "code",
   "execution_count": 102,
   "metadata": {},
   "outputs": [
    {
     "data": {
      "text/plain": [
       "['c:\\\\Users\\\\user\\\\Desktop\\\\10_Academy\\\\Week_3\\\\Technical\\\\Pharmaceutical-Sales\\\\notebooks\\\\..\\\\models/2022-05-28-12-46-33.pkl']"
      ]
     },
     "execution_count": 102,
     "metadata": {},
     "output_type": "execute_result"
    }
   ],
   "source": [
    "dump(filename=f'{model_file_path}/{model_timestamp}.pkl', value=regressor, compress=9)"
   ]
  },
  {
   "cell_type": "code",
   "execution_count": 107,
   "metadata": {},
   "outputs": [],
   "source": [
    "feature_importance = pd.DataFrame({\"Feature\": X.columns, \"Importance\": regressor.feature_importances_})"
   ]
  },
  {
   "cell_type": "code",
   "execution_count": 108,
   "metadata": {},
   "outputs": [
    {
     "data": {
      "text/html": [
       "<div>\n",
       "<style scoped>\n",
       "    .dataframe tbody tr th:only-of-type {\n",
       "        vertical-align: middle;\n",
       "    }\n",
       "\n",
       "    .dataframe tbody tr th {\n",
       "        vertical-align: top;\n",
       "    }\n",
       "\n",
       "    .dataframe thead th {\n",
       "        text-align: right;\n",
       "    }\n",
       "</style>\n",
       "<table border=\"1\" class=\"dataframe\">\n",
       "  <thead>\n",
       "    <tr style=\"text-align: right;\">\n",
       "      <th></th>\n",
       "      <th>Feature</th>\n",
       "      <th>Importance</th>\n",
       "    </tr>\n",
       "  </thead>\n",
       "  <tbody>\n",
       "    <tr>\n",
       "      <th>0</th>\n",
       "      <td>Store</td>\n",
       "      <td>0.090681</td>\n",
       "    </tr>\n",
       "    <tr>\n",
       "      <th>1</th>\n",
       "      <td>DayOfWeek</td>\n",
       "      <td>0.081748</td>\n",
       "    </tr>\n",
       "    <tr>\n",
       "      <th>2</th>\n",
       "      <td>Sales</td>\n",
       "      <td>0.000624</td>\n",
       "    </tr>\n",
       "    <tr>\n",
       "      <th>3</th>\n",
       "      <td>Customers</td>\n",
       "      <td>0.079295</td>\n",
       "    </tr>\n",
       "    <tr>\n",
       "      <th>4</th>\n",
       "      <td>Open</td>\n",
       "      <td>0.000000</td>\n",
       "    </tr>\n",
       "    <tr>\n",
       "      <th>5</th>\n",
       "      <td>Promo</td>\n",
       "      <td>0.101834</td>\n",
       "    </tr>\n",
       "    <tr>\n",
       "      <th>6</th>\n",
       "      <td>SchoolHoliday</td>\n",
       "      <td>0.093771</td>\n",
       "    </tr>\n",
       "    <tr>\n",
       "      <th>7</th>\n",
       "      <td>CompetitionDistance</td>\n",
       "      <td>0.090334</td>\n",
       "    </tr>\n",
       "    <tr>\n",
       "      <th>8</th>\n",
       "      <td>CompetitionOpenSinceMonth</td>\n",
       "      <td>0.136575</td>\n",
       "    </tr>\n",
       "    <tr>\n",
       "      <th>9</th>\n",
       "      <td>CompetitionOpenSinceYear</td>\n",
       "      <td>0.044172</td>\n",
       "    </tr>\n",
       "    <tr>\n",
       "      <th>10</th>\n",
       "      <td>Promo2</td>\n",
       "      <td>0.144978</td>\n",
       "    </tr>\n",
       "    <tr>\n",
       "      <th>11</th>\n",
       "      <td>Promo2SinceWeek</td>\n",
       "      <td>0.062771</td>\n",
       "    </tr>\n",
       "    <tr>\n",
       "      <th>12</th>\n",
       "      <td>Promo2SinceYear</td>\n",
       "      <td>0.073219</td>\n",
       "    </tr>\n",
       "  </tbody>\n",
       "</table>\n",
       "</div>"
      ],
      "text/plain": [
       "                      Feature  Importance\n",
       "0                       Store    0.090681\n",
       "1                   DayOfWeek    0.081748\n",
       "2                       Sales    0.000624\n",
       "3                   Customers    0.079295\n",
       "4                        Open    0.000000\n",
       "5                       Promo    0.101834\n",
       "6               SchoolHoliday    0.093771\n",
       "7         CompetitionDistance    0.090334\n",
       "8   CompetitionOpenSinceMonth    0.136575\n",
       "9    CompetitionOpenSinceYear    0.044172\n",
       "10                     Promo2    0.144978\n",
       "11            Promo2SinceWeek    0.062771\n",
       "12            Promo2SinceYear    0.073219"
      ]
     },
     "execution_count": 108,
     "metadata": {},
     "output_type": "execute_result"
    }
   ],
   "source": [
    "feature_importance"
   ]
  },
  {
   "cell_type": "code",
   "execution_count": 115,
   "metadata": {},
   "outputs": [],
   "source": [
    "plt.style.use('seaborn')"
   ]
  },
  {
   "cell_type": "code",
   "execution_count": 126,
   "metadata": {},
   "outputs": [
    {
     "data": {
      "text/plain": [
       "<AxesSubplot:title={'center':'Feature Importance'}, ylabel='Feature'>"
      ]
     },
     "execution_count": 126,
     "metadata": {},
     "output_type": "execute_result"
    },
    {
     "data": {
      "image/png": "[encoded data removed]",
      "text/plain": [
       "<Figure size 1440x720 with 1 Axes>"
      ]
     },
     "metadata": {},
     "output_type": "display_data"
    }
   ],
   "source": [
    "feature_importance.sort_values(by=\"Importance\").plot(kind=\"barh\", x=\"Feature\", y=\"Importance\", title=\"Feature Importance\", legend=False, figsize=(20, 10))"
   ]
  }
 ],
 "metadata": {
  "interpreter": {
   "hash": "63fd5069d213b44bf678585dea6b12cceca9941eaf7f819626cde1f2670de90d"
  },
  "kernelspec": {
   "display_name": "Python 3.9.6 64-bit",
   "language": "python",
   "name": "python3"
  },
  "language_info": {
   "codemirror_mode": {
    "name": "ipython",
    "version": 3
   },
   "file_extension": ".py",
   "mimetype": "text/x-python",
   "name": "python",
   "nbconvert_exporter": "python",
   "pygments_lexer": "ipython3",
   "version": "3.9.6"
  },
  "orig_nbformat": 4
 },
 "nbformat": 4,
 "nbformat_minor": 2
}
